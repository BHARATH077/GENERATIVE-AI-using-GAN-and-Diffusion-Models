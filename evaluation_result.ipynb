{
 "cells": [
  {
   "cell_type": "code",
   "execution_count": 6,
   "metadata": {},
   "outputs": [
    {
     "name": "stdout",
     "output_type": "stream",
     "text": [
      "WARNING:tensorflow:5 out of the last 8 calls to <function Model.make_predict_function.<locals>.predict_function at 0x000001EF0FFAC280> triggered tf.function retracing. Tracing is expensive and the excessive number of tracings could be due to (1) creating @tf.function repeatedly in a loop, (2) passing tensors with different shapes, (3) passing Python objects instead of tensors. For (1), please define your @tf.function outside of the loop. For (2), @tf.function has reduce_retracing=True option that can avoid unnecessary retracing. For (3), please refer to https://www.tensorflow.org/guide/function#controlling_retracing and https://www.tensorflow.org/api_docs/python/tf/function for  more details.\n",
      "1/1 [==============================] - 8s 8s/step\n",
      "1/1 [==============================] - 1s 724ms/step\n",
      "FID between GAN and diffusion images: 15.731935\n",
      "SSIM between GAN and diffusion images: -0.027318373851936712\n"
     ]
    }
   ],
   "source": [
    "import tensorflow as tf\n",
    "import numpy as np\n",
    "from skimage.metrics import structural_similarity as ssim\n",
    "from PIL import Image\n",
    "\n",
    "# Assuming you have the generated images saved as 'gan_image.png' and 'diffusion_image.png'\n",
    "gan_image_path = 'face image.PNG'\n",
    "diffusion_image_path = 'diffusion model image.PNG'\n",
    "\n",
    "# Load the images\n",
    "gan_image = Image.open(gan_image_path).resize((299, 299)).convert('RGB')\n",
    "diffusion_image = Image.open(diffusion_image_path).resize((299, 299)).convert('RGB')\n",
    "\n",
    "# Convert images to numpy arrays\n",
    "gan_image_np = np.array(gan_image)\n",
    "diffusion_image_np = np.array(diffusion_image)\n",
    "\n",
    "# Define a function to calculate Fréchet Inception Distance (FID)\n",
    "def calculate_fid(real_images, generated_images):\n",
    "    inception_model = tf.keras.applications.InceptionV3(include_top=False, pooling='avg', input_shape=(299, 299, 3))\n",
    "    \n",
    "    # Preprocess images for InceptionV3\n",
    "    real_images = tf.keras.applications.inception_v3.preprocess_input(real_images.astype('float32'))\n",
    "    generated_images = tf.keras.applications.inception_v3.preprocess_input(generated_images.astype('float32'))\n",
    "    \n",
    "    # Get feature vectors from InceptionV3\n",
    "    real_features = inception_model.predict(real_images)\n",
    "    generated_features = inception_model.predict(generated_images)\n",
    "    \n",
    "    # Calculate FID\n",
    "    fid = tf.linalg.norm(tf.math.reduce_mean(real_features, axis=0) - tf.math.reduce_mean(generated_features, axis=0))\n",
    "    \n",
    "    return fid.numpy()\n",
    "\n",
    "# Calculate FID\n",
    "fid_gan = calculate_fid(np.expand_dims(gan_image_np, axis=0), np.expand_dims(diffusion_image_np, axis=0))\n",
    "# Calculate Structural Similarity Index (SSIM)\n",
    "ssim_index = ssim(\n",
    "    gan_image_np, diffusion_image_np, \n",
    "    win_size=min(gan_image_np.shape[0], gan_image_np.shape[1]), \n",
    "    multichannel=True, \n",
    "    channel_axis=-1  # Explicitly set the channel axis for multichannel (RGB) images\n",
    ")\n",
    "\n",
    "\n",
    "# Print results\n",
    "print(\"FID between GAN and diffusion images:\", fid_gan)\n",
    "print(\"SSIM between GAN and diffusion images:\", ssim_index)\n"
   ]
  },
  {
   "cell_type": "code",
   "execution_count": null,
   "metadata": {},
   "outputs": [],
   "source": []
  }
 ],
 "metadata": {
  "kernelspec": {
   "display_name": "Python 3",
   "language": "python",
   "name": "python3"
  },
  "language_info": {
   "codemirror_mode": {
    "name": "ipython",
    "version": 3
   },
   "file_extension": ".py",
   "mimetype": "text/x-python",
   "name": "python",
   "nbconvert_exporter": "python",
   "pygments_lexer": "ipython3",
   "version": "3.10.8"
  }
 },
 "nbformat": 4,
 "nbformat_minor": 2
}
